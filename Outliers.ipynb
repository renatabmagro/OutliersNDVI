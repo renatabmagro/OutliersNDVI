{
  "nbformat": 4,
  "nbformat_minor": 0,
  "metadata": {
    "colab": {
      "provenance": [],
      "authorship_tag": "ABX9TyPJlpKDRClLcaRtXx9NIW2b",
      "include_colab_link": true
    },
    "kernelspec": {
      "name": "ir",
      "display_name": "R"
    },
    "language_info": {
      "name": "R"
    }
  },
  "cells": [
    {
      "cell_type": "markdown",
      "metadata": {
        "id": "view-in-github",
        "colab_type": "text"
      },
      "source": [
        "<a href=\"https://colab.research.google.com/github/renatabmagro/OutliersNDVI/blob/main/Outliers.ipynb\" target=\"_parent\"><img src=\"https://colab.research.google.com/assets/colab-badge.svg\" alt=\"Open In Colab\"/></a>"
      ]
    },
    {
      "cell_type": "markdown",
      "source": [
        "Script para identificar e remover valores outliers de um banco de dados. \n",
        "\n",
        "Este script contém as etapas:\n",
        "  - Leitura do banco de dados;\n",
        "  - Visualização dos dados;\n",
        "  - Identificação dos valores outliers. \n",
        "  - Elaboração de gráficos (boxplot e histograma)\n",
        "  \n",
        "\n",
        "\n",
        "    OBS: Este script foi criado inicialmente para identificação dos valores outliers de NDVI - Etapa de trabalho do NDVI com o sensor Flexum (Falker); mas pode ser adaptado para identificar e remover outliers em outras tarefas. \n"
      ],
      "metadata": {
        "id": "VH3dfFyWH3_C"
      }
    },
    {
      "cell_type": "code",
      "execution_count": null,
      "metadata": {
        "id": "KCQ-hpelH1DN"
      },
      "outputs": [],
      "source": [
        "#-------Instalação de bibliotecas\n",
        "\n",
        "install.packages(\"rgl\", dependencies=TRUE)\n",
        "#-------------------------------------\n",
        "# pacotes necessários------\n",
        "install.packages(\"fBasics\")\n",
        "library(fBasics)\n",
        "install.packages(\"tidyverse\")\n",
        "library(tidyverse)\n",
        "install.packages(\"sp\")\n",
        "library(sp)\n",
        "install.packages(\"rgl\", dependencies=TRUE)\n",
        "library(rgl)\n",
        "install.packages(\"plot3D\")\n",
        "library(plot3D)\n",
        "install.packages(\"openxlsx\")\n",
        "library(openxlsx)\n",
        "install.packages(\"readxl\")  \n",
        "library(readxl)"
      ]
    },
    {
      "cell_type": "code",
      "source": [
        "#-----Declarando funções fora dos pacotes\n",
        "  # função coeficiente de variação \n",
        "cv = function(variavel){\n",
        "  coef_var = (sd(variavel, na.rm = T)/mean(variavel, na.rm = T))*100\n",
        "  return(coef_var)\n",
        "}"
      ],
      "metadata": {
        "id": "u3kyM_VyNlsN"
      },
      "execution_count": 17,
      "outputs": []
    },
    {
      "cell_type": "code",
      "source": [
        "#--------Leitura dos dados \n",
        "  # Aqui a planilha do excel já contém as coordenadas UTM\n",
        "  # As colunas com os dados menos relevantes já foram removidas, ou seja, esta planilha contém apenas as coordenadas e o NDVI\n",
        "# library(readxl)\n",
        "dados <- read_excel(\"Embrapa Fito 29.09.2021 .xlsx\", \n",
        "                   sheet = \"SF\") # modificar o nome do arquivo e a aba da planilha de interesse conforme a necessidade\n",
        "View(dados)\n",
        "\n",
        "dados = dados [complete.cases(dados),] #remoção NAs"
      ],
      "metadata": {
        "id": "lROA71knNxQE"
      },
      "execution_count": null,
      "outputs": []
    },
    {
      "cell_type": "code",
      "source": [
        "#-------- Visualização dos dados\n",
        "names(dados) #nome colunas\n",
        "head(dados) #primeiras linhas\n",
        "tail(dados) #ultimas linhas "
      ],
      "metadata": {
        "id": "Xv4TJui8OQ21"
      },
      "execution_count": null,
      "outputs": []
    },
    {
      "cell_type": "code",
      "source": [
        "#----- Selecionar os atributos de interesse em um mesmo data frame \n",
        "# Cria um novo dataframe apenas com os dados que interessam\n",
        "atr_projeto = data.frame(Lat=dados$Latitude,\n",
        "                         Long=dados$Longitude,\n",
        "                         NDVI=dados$NDVI)"
      ],
      "metadata": {
        "id": "N43US5fkOX9Y"
      },
      "execution_count": 15,
      "outputs": []
    },
    {
      "cell_type": "code",
      "source": [
        "#----- Cálculos estatísticos\n",
        "cv = data.frame(estat_NDVI = cv(atr_projeto$NDVI))\n",
        "estat_final = data.frame(estat_NDVI = basicStats(atr_projeto$NDVI))\n",
        "\n",
        "names(estat_final)<-c('estat_NDVI')\n",
        "estat_completo <- rbind(estat_final, cv)"
      ],
      "metadata": {
        "id": "k2rElDWnP4MF"
      },
      "execution_count": 18,
      "outputs": []
    },
    {
      "cell_type": "code",
      "source": [
        "#plotagem dos histogramas e boxplots-----------------\n",
        "lst1<- lapply(names(atr_projeto), function(i) {hist(atr_projeto[,i],100,\n",
        "                                                    col=\"lightblue\",\n",
        "                                                    main=paste0(\"histograma de\", i),\n",
        "                                                    xlab=i); boxplot(atr_projeto[,i])})\n",
        "\n"
      ],
      "metadata": {
        "id": "VCrYZEQKP_8k"
      },
      "execution_count": null,
      "outputs": []
    },
    {
      "cell_type": "code",
      "source": [
        "boxplot(atr_projeto$NDVI, outline = T) #mapa com outliers\n",
        "boxplot(atr_projeto$NDVI)$out # mostra os valores que são outliers no console - posso ir no arquivo excel, filtrar os valores manuelamente e excluí-los. \n",
        "                              # também pode ser feita a filtragem manual no Qgis, para avaliar espacialmente os valores e concluir se são outliers ou não.\n",
        "\n",
        "boxplot(atr_projeto$NDVI, outline = F) #mapa sem outliers"
      ],
      "metadata": {
        "id": "n4NHQ8QbQCpC"
      },
      "execution_count": null,
      "outputs": []
    },
    {
      "cell_type": "code",
      "source": [
        "# Etapa para remoção automática dos valores outliers \n",
        "# Contudo, não é criada uma nova planilha no excel.. então é útil apenas se o interesse é continuar trabalhando com os dados no ambiente do R. \n",
        "\n",
        "remove_outlier <- atr_projeto$NDVI[!atr_projeto$NDVI %in% boxplot.stats(atr_projeto$NDVI)$out]    # Remove automaticamente os outliers\n",
        "length(atr_projeto$NDVI) - length(remove_outlier)                   # Contagem dos outliers\n",
        "boxplot(remove_outlier)                              # Boxplot sem os outliers"
      ],
      "metadata": {
        "id": "1MwqduBZUW5r"
      },
      "execution_count": null,
      "outputs": []
    }
  ]
}